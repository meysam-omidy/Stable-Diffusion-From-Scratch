{
 "cells": [
  {
   "cell_type": "markdown",
   "metadata": {},
   "source": [
    "# Import Required Packages"
   ]
  },
  {
   "cell_type": "code",
   "execution_count": 14,
   "metadata": {},
   "outputs": [],
   "source": [
    "import torch\n",
    "import torch.nn as nn\n",
    "import torch.optim as optim\n",
    "import numpy as np\n",
    "from torch.autograd import Variable\n",
    "import torchvision.datasets as datasets\n",
    "import matplotlib.pyplot as plt\n",
    "from torchvision import transforms\n",
    "from torch.nn.functional import one_hot\n",
    "from torch.utils.data import DataLoader, ConcatDataset"
   ]
  },
  {
   "cell_type": "markdown",
   "metadata": {},
   "source": [
    "# Load Dataset"
   ]
  },
  {
   "cell_type": "code",
   "execution_count": null,
   "metadata": {},
   "outputs": [],
   "source": [
    "transforms_ = transforms.Compose([\n",
    "    transforms.Resize([14,14]),\n",
    "    transforms.ToTensor(),\n",
    "    transforms.Normalize(0.5, 0.5)\n",
    "])\n",
    "train_set = datasets.MNIST( download=True,  root=\"./\",  transform=transforms_ ,train=True)\n",
    "test_set = datasets.MNIST(download=True, root=\"./\", transform=transforms_, train=False)\n",
    "full_set = ConcatDataset([train_set, test_set])\n",
    "train_loader = DataLoader(full_set, batch_size=64, shuffle=False)"
   ]
  },
  {
   "cell_type": "markdown",
   "metadata": {},
   "source": [
    "# Define Diffusion Model, Loss Function And Optimizer"
   ]
  },
  {
   "cell_type": "code",
   "execution_count": null,
   "metadata": {},
   "outputs": [],
   "source": [
    "class ResLayer(nn.Module):\n",
    "    def __init__(self, in_features):\n",
    "        super().__init__()\n",
    "        self.layer = nn.Sequential(\n",
    "            nn.Linear(in_features, 128),\n",
    "            nn.SiLU(True),\n",
    "            nn.BatchNorm1d(128),\n",
    "            nn.Linear(128, in_features),\n",
    "            nn.SiLU(True),\n",
    "        )\n",
    "\n",
    "    def forward(self, x):\n",
    "        return self.layer(x) + x\n",
    "    \n",
    "\n",
    "class Diffusion(nn.Module):\n",
    "    def __init__(self, beta_start=1e-4, beta_end=2e-2, num_forward_steps=1000, device='cuda'):\n",
    "        super().__init__()\n",
    "        self.beta_start = beta_start\n",
    "        self.beta_end = beta_end\n",
    "        self.num_forward_steps = num_forward_steps\n",
    "        self.device = device\n",
    "        self.model = nn.Sequential(\n",
    "                    nn.Linear(196 + num_forward_steps + 10, 512),\n",
    "                    ResLayer(512),\n",
    "                    nn.Linear(512, 512),\n",
    "                    ResLayer(512),\n",
    "                    nn.Linear(512, 512),\n",
    "                    ResLayer(512),\n",
    "                    nn.Linear(512, 196)\n",
    "                ).to(device)\n",
    "        beta = torch.linspace(self.beta_start, self.beta_end, self.num_forward_steps).numpy().tolist()\n",
    "        self.beta = torch.tensor(beta).to(self.device)\n",
    "        alpha = [1 - beta[0]]\n",
    "        for i in range(1, self.num_forward_steps):\n",
    "            alpha.append(alpha[i-1] * (1 - beta[i]))\n",
    "        self.alpha = torch.tensor(alpha).to(device)\n",
    "\n",
    "    def forward_process(self, image):\n",
    "        alpha = self.alpha.repeat(*image.shape, 1).permute(-1, *[i for i in range(len(image.shape))]).to(self.device)\n",
    "        noise = torch.randn_like(alpha)\n",
    "        noisy_image = alpha.sqrt() * image +  (1 - alpha).sqrt() * noise\n",
    "        return noisy_image, noise\n",
    "\n",
    "    def backward_process(self, noisy_image, label):\n",
    "        batch_size = noisy_image.shape[1]\n",
    "        pred_noise = Variable(torch.zeros(self.num_forward_steps, batch_size, 1, 14, 14).to(self.device))\n",
    "        for t in range(self.num_forward_steps-1, -1, -1):\n",
    "            noisy_image_batch = noisy_image[t].reshape(batch_size, -1)\n",
    "            time_one_hot = torch.zeros(batch_size, self.num_forward_steps).to(self.device)\n",
    "            time_one_hot[:, t] = 1\n",
    "            noisy_image_batch_with_time = torch.concatenate([noisy_image_batch, time_one_hot, one_hot(label, 10)], dim=1)\n",
    "            noise_batch = self.model(noisy_image_batch_with_time).view(batch_size, 1, 14, 14)\n",
    "            pred_noise[t] = noise_batch\n",
    "        return pred_noise\n",
    "\n",
    "    def generate(self, label, middle_noise=False):\n",
    "        image = torch.randn(label.shape[0], 196).to(self.device)\n",
    "        for t in range(self.num_forward_steps-1, -1, -1):\n",
    "            time_one_hot = torch.zeros(label.shape[0], self.num_forward_steps).to(self.device)\n",
    "            image_with_time = torch.concatenate([image, time_one_hot, one_hot(label, 10)], dim=1)\n",
    "            noise_pred = self.model(image_with_time)\n",
    "            if middle_noise:\n",
    "                if t == 0:\n",
    "                    noise = torch.zeros_like(image)\n",
    "                else:\n",
    "                    noise = torch.randn_like(image)\n",
    "                image = (1 / (1 - self.beta[t]).sqrt()) * (image - ((self.beta[t]) / (1 - self.alpha[t]).sqrt()) * noise_pred) + self.beta[t] * noise\n",
    "            else:\n",
    "                image = (1 / (1 - self.beta[t]).sqrt()) * (image - ((self.beta[t]) / (1 - self.alpha[t]).sqrt()) * noise_pred)\n",
    "        return image.view(label.shape[0], 1, 14, 14)\n",
    "\n",
    "\n",
    "device = 'cuda' if torch.cuda.is_available() else 'cpu'\n",
    "diffusion = Diffusion(1e-3, 7e-1, 20)\n",
    "criterion = nn.MSELoss()\n",
    "optimizer = optim.AdamW(diffusion.parameters(), lr=5e-4)"
   ]
  },
  {
   "cell_type": "markdown",
   "metadata": {},
   "source": [
    "# Train Diffusion"
   ]
  },
  {
   "cell_type": "code",
   "execution_count": null,
   "metadata": {},
   "outputs": [],
   "source": [
    "for epoch in range(120):\n",
    "    total_loss = []\n",
    "    for i, (data, label) in enumerate(train_loader):\n",
    "        data = data.to(device)\n",
    "        label = label.to(device)\n",
    "        noisy_image, noise = diffusion.forward_process(data)\n",
    "        pred_noise = diffusion.backward_process(noisy_image, label)\n",
    "        loss = criterion(noise, pred_noise)\n",
    "        total_loss.append(loss.item())\n",
    "        optimizer.zero_grad()\n",
    "        loss.backward()\n",
    "        optimizer.step()\n",
    "\n",
    "    print(f'epoch {epoch+1}      total {np.mean(total_loss)}')\n"
   ]
  },
  {
   "cell_type": "markdown",
   "metadata": {},
   "source": [
    "# Generate Results"
   ]
  },
  {
   "cell_type": "code",
   "execution_count": 17,
   "metadata": {},
   "outputs": [
    {
     "data": {
      "image/png": "[encoded data removed]",
      "text/plain": [
       "<Figure size 640x480 with 50 Axes>"
      ]
     },
     "metadata": {},
     "output_type": "display_data"
    }
   ],
   "source": [
    "labels = torch.concatenate([torch.linspace(0, 9, 10).type(torch.LongTensor) for _ in range(5)]).to(device)\n",
    "images = diffusion.generate(labels)\n",
    "\n",
    "plt.figure()\n",
    "for i in range(50):\n",
    "    plt.subplot(5, 10, i+1)\n",
    "    plt.imshow(images[i].detach().cpu().numpy().reshape(14,14), cmap='gray')\n",
    "    plt.axis('off')\n",
    "plt.show()"
   ]
  }
 ],
 "metadata": {
  "kernelspec": {
   "display_name": "Python 3",
   "language": "python",
   "name": "python3"
  },
  "language_info": {
   "codemirror_mode": {
    "name": "ipython",
    "version": 3
   },
   "file_extension": ".py",
   "mimetype": "text/x-python",
   "name": "python",
   "nbconvert_exporter": "python",
   "pygments_lexer": "ipython3",
   "version": "3.11.2"
  }
 },
 "nbformat": 4,
 "nbformat_minor": 2
}
